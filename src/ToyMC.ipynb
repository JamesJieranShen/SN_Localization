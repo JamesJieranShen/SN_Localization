{
 "cells": [
  {
   "cell_type": "code",
   "execution_count": 17,
   "metadata": {
    "scrolled": true
   },
   "outputs": [],
   "source": [
    "import ROOT\n",
    "from ROOT import *\n",
    "import numpy as np\n",
    "import ctypes\n",
    "\n",
    "from constants import *"
   ]
  },
  {
   "cell_type": "code",
   "execution_count": 18,
   "metadata": {},
   "outputs": [],
   "source": [
    "%%cpp\n",
    "#include \"constants.h\""
   ]
  },
  {
   "cell_type": "code",
   "execution_count": null,
   "metadata": {
    "scrolled": true
   },
   "outputs": [],
   "source": []
  },
  {
   "cell_type": "code",
   "execution_count": 19,
   "metadata": {},
   "outputs": [],
   "source": [
    "ROOT.gRandom.SetSeed(0)\n",
    "ROOT.gStyle.SetOptStat(0)\n",
    "#ROOT.gStyle.SetMarkerStyle(kPlus)\n",
    "rng = ROOT.TRandom3()"
   ]
  },
  {
   "cell_type": "code",
   "execution_count": 20,
   "metadata": {},
   "outputs": [
    {
     "name": "stderr",
     "output_type": "stream",
     "text": [
      "Warning in <TROOT::Append>: Replacing existing TH1: n_diffusion (Potential memory leak).\n"
     ]
    }
   ],
   "source": [
    "# read in neutron diffusion distribution\n",
    "n_diffusion = ROOT.TH1F(\"n_diffusion\", \"distribution of path length of neutron\", 41, -25, 2025) \n",
    "        # bin center at 0:50:2000\n",
    "    \n",
    "pdf_file = open('../data/LiqScin_distributions/neutron_diffusion_length.csv')\n",
    "pdf = np.loadtxt(pdf_file, delimiter=\",\")\n",
    "for line in pdf:\n",
    "    n_diffusion.Fill(line[0], line[1])\n",
    "    \n",
    "pdf_file.close()"
   ]
  },
  {
   "cell_type": "code",
   "execution_count": 21,
   "metadata": {},
   "outputs": [
    {
     "name": "stderr",
     "output_type": "stream",
     "text": [
      "Warning in <TCanvas::Constructor>: Deleting canvas with same name: c1\n"
     ]
    },
    {
     "data": {
      "image/png": "[encoded data removed]",
      "text/plain": [
       "<IPython.core.display.Image object>"
      ]
     },
     "metadata": {},
     "output_type": "display_data"
    }
   ],
   "source": [
    "# ... plot it\n",
    "c1 = ROOT.TCanvas(\"c1\", \"c1\", 800, 600)\n",
    "n_diffusion.SetMarkerStyle(kPlus)\n",
    "n_diffusion.Draw(\"p hist\")\n",
    "c1.Draw()"
   ]
  },
  {
   "cell_type": "code",
   "execution_count": 6,
   "metadata": {},
   "outputs": [
    {
     "data": {
      "text/plain": [
       "0.019931995153456228"
      ]
     },
     "execution_count": 6,
     "metadata": {},
     "output_type": "execute_result"
    }
   ],
   "source": [
    "n_diffusion.Integral()"
   ]
  },
  {
   "cell_type": "code",
   "execution_count": 22,
   "metadata": {},
   "outputs": [],
   "source": [
    "def get_n_diffusion():\n",
    "    return n_diffusion.GetRandom();"
   ]
  },
  {
   "cell_type": "markdown",
   "metadata": {},
   "source": [
    "### Thermalization distribution\n",
    "assuming thermalization distributions are exponential"
   ]
  },
  {
   "cell_type": "code",
   "execution_count": 23,
   "metadata": {},
   "outputs": [
    {
     "name": "stderr",
     "output_type": "stream",
     "text": [
      "Warning in <TROOT::Append>: Replacing existing TH1: n_thermalize (Potential memory leak).\n",
      "Warning in <TCanvas::Constructor>: Deleting canvas with same name: c2\n"
     ]
    },
    {
     "data": {
      "image/png": "[encoded data removed]",
      "text/plain": [
       "<IPython.core.display.Image object>"
      ]
     },
     "metadata": {},
     "output_type": "display_data"
    }
   ],
   "source": [
    "# read distribution, plot\n",
    "\n",
    "n_thermalize = ROOT.TH1F(\"n_thermalize\", \"mean length of neutron until thermalization\", 41, -0.25, 20.25) \n",
    "n_thermalize.Sumw2()\n",
    "\n",
    "pdf_file = open('../data/LiqScin_distributions/neutron_thermalization_length.csv')\n",
    "pdf = np.loadtxt(pdf_file, delimiter=\",\")\n",
    "for line in pdf:\n",
    "    n_thermalize.Fill(line[0], line[1])\n",
    "pdf_file.close();\n",
    "\n",
    "n_thermalize.SetMarkerStyle(ROOT.kPlus)\n",
    "\n",
    "c2 = ROOT.TCanvas(\"c2\", \"c2\", 800, 600)\n",
    "c2.SetLogy()\n",
    "\n",
    "n_thermalize.Draw(\"hist P\")\n",
    "c2.Draw()"
   ]
  },
  {
   "cell_type": "code",
   "execution_count": 24,
   "metadata": {},
   "outputs": [],
   "source": [
    "def get_T(E, E0):\n",
    "    # helper function. Get kinetic energy of particle given total energy and rest mass\n",
    "    return E - E0\n",
    "\n",
    "\n",
    "def get_n_thermalize(En):\n",
    "    '''\n",
    "    Get the thermalization Path length\n",
    "    En: Neutron total energy\n",
    "    '''\n",
    "    Tn = get_T(En, e0_n)\n",
    "    #print(Tn)\n",
    "    mean = n_thermalize.GetBinContent(n_thermalize.FindBin(Tn))\n",
    "    return mean#rng.Exp(mean)"
   ]
  },
  {
   "cell_type": "markdown",
   "metadata": {},
   "source": [
    "### Loop through simulated events"
   ]
  },
  {
   "cell_type": "code",
   "execution_count": 25,
   "metadata": {},
   "outputs": [],
   "source": [
    "def random_sphere(radius=1):\n",
    "    x = ctypes.c_double(0)\n",
    "    y = ctypes.c_double(0)\n",
    "    z = ctypes.c_double(0)\n",
    "    rng.Sphere(x, y, z, radius)\n",
    "    return np.array([x.value, y.value, z.value])\n",
    "\n",
    "def random_cone(cosZ, norm=1):\n",
    "    # return a vector of length \"norm\" and of a z direction defined by cosZ\n",
    "    x = ctypes.c_double(0)\n",
    "    y = ctypes.c_double(0)\n",
    "    radius = norm*(1-cosZ**2)\n",
    "    rng.Circle(x, y, radius)\n",
    "    return np.array([x.value, y.value, norm*cosZ])\n",
    "\n",
    "def calculate_n_path(event, use_diffusion=True, gamma_smear=200, detector_smear=200):\n",
    "    \n",
    "    # return the path length along the -z direction (in direction of nuebar)\n",
    "    thermalize_path_length = get_n_thermalize(event.n_energy)\n",
    "    thermalize_path = random_cone(norm=thermalize_path_length, cosZ=-event.nz)\n",
    "    \n",
    "    # diffusion path\n",
    "    diffusion_path = np.array([0, 0, 0])\n",
    "    if use_diffusion:\n",
    "        diffusion_path = random_sphere(radius=get_n_diffusion())\n",
    "        \n",
    "        \n",
    "    # gamma smearing\n",
    "    gamma_path = random_sphere(radius=rng.Gaus(0, gamma_smear))\n",
    "    \n",
    "    #detector smearing\n",
    "    detector_smear = random_sphere(radius=rng.Gaus(0, detector_smear))\n",
    "    \n",
    "    return thermalize_path + diffusion_path + gamma_path + detector_smear\n",
    "\n",
    "def calculate_n_path_z(e, use_diffusion=True, gamma_smear=200, detector_smear=200):\n",
    "    return calculate_n_path(e, use_diffusion, gamma_smear, detector_smear)[2]"
   ]
  },
  {
   "cell_type": "code",
   "execution_count": 26,
   "metadata": {
    "scrolled": true
   },
   "outputs": [
    {
     "name": "stderr",
     "output_type": "stream",
     "text": [
      "Info in <TCanvas::Print>: png file ../output/plots/ToyMC/neutron_path.png has been created\n"
     ]
    },
    {
     "data": {
      "image/png": "[encoded data removed]",
      "text/plain": [
       "<IPython.core.display.Image object>"
      ]
     },
     "metadata": {},
     "output_type": "display_data"
    }
   ],
   "source": [
    "treeFile = TFile(\"../output/ROOT/kin_results_generated.root\")\n",
    "kin_tree = treeFile.kin_tree\n",
    "counter = 0\n",
    "\n",
    "n_path_z_mean_smeared = TProfile(\"n_path_z_mean_smeared\", \n",
    "                                 \"Mean Neutron Path Length In #nu direction\", 50, 0, 100, -7500, 7500)\n",
    "n_path_z_mean_unsmeared = TProfile(\"n_path_z_mean_unsmeared\", \n",
    "                                 \"Mean Neutron Path Length In #nu direction\", 50, 0, 100, -7500, 7500)\n",
    "\n",
    "for e in kin_tree:\n",
    "    n_path_z = calculate_n_path_z(e, use_diffusion=True, gamma_smear=200, detector_smear=200)\n",
    "    n_path_z_nosmear = calculate_n_path_z(e, use_diffusion=False, gamma_smear=0, detector_smear=0)\n",
    "    n_path_z_mean_smeared.Fill(e.nuebar_energy, n_path_z, 1)\n",
    "    n_path_z_mean_unsmeared.Fill(e.nuebar_energy, n_path_z_nosmear, 1)\n",
    "\n",
    "    \n",
    "c3 = ROOT.TCanvas(\"c3\", \"c3\", 800, 600)\n",
    "n_path_z_mean_smeared.Draw(\"\")\n",
    "\n",
    "n_path_z_mean_unsmeared.SetLineColor(kRed)\n",
    "n_path_z_mean_unsmeared.Draw(\"E1 X0 SAME\")\n",
    "n_path_z_mean_unsmeared.Draw(\"HIST L SAME\")\n",
    "\n",
    "n_path_z_mean_smeared.GetXaxis().SetTitle(\"#bar{#nu_{e}} Energy (MeV)\")\n",
    "\n",
    "leg = TLegend(0.1,0.75,0.3,0.9)\n",
    "\n",
    "leg.AddEntry(n_path_z_mean_unsmeared,\"unsmeared\",\"LE\")\n",
    "leg.AddEntry(n_path_z_mean_smeared,\"smeared\",\"LE\")\n",
    "leg.Draw()\n",
    "\n",
    "\n",
    "c3.Draw()\n",
    "c3.SaveAs(\"../output/plots/ToyMC/neutron_path.png\")\n",
    "\n",
    "#treeFile.Close()"
   ]
  },
  {
   "cell_type": "markdown",
   "metadata": {},
   "source": [
    "## Positron"
   ]
  },
  {
   "cell_type": "code",
   "execution_count": 27,
   "metadata": {},
   "outputs": [
    {
     "name": "stderr",
     "output_type": "stream",
     "text": [
      "Warning in <TCanvas::Constructor>: Deleting canvas with same name: c4\n"
     ]
    },
    {
     "data": {
      "image/png": "[encoded data removed]",
      "text/plain": [
       "<IPython.core.display.Image object>"
      ]
     },
     "metadata": {},
     "output_type": "display_data"
    }
   ],
   "source": [
    "ebar_pathlength_pdf = TH2F(\"ebar_pathlength_pdf\", \"Path Length Distribution of Positron\", 5, 0, 100, 30, 10, 610) \n",
    "\n",
    "energies = [10, 30, 50, 70, 90]\n",
    "for energy in energies:\n",
    "    file_path = \"../data/LiqScin_distributions/ebar_path_length_kamLAND/{}MeV.csv\".format(energy)\n",
    "    pdf_file = open(file_path)\n",
    "    pdf = np.loadtxt(pdf_file, delimiter=\",\")\n",
    "    for line in pdf:\n",
    "        #print(line)\n",
    "        ebar_pathlength_pdf.Fill(energy, line[0], line[1])\n",
    "    pdf_file.close()\n",
    "\n",
    "c4 = TCanvas(\"c4\", \"c4\", 800, 600)\n",
    "ebar_pathlength_pdf.Draw(\"colz\")\n",
    "c4.Draw()"
   ]
  },
  {
   "cell_type": "code",
   "execution_count": 28,
   "metadata": {},
   "outputs": [
    {
     "data": {
      "image/png": "[encoded data removed]",
      "text/plain": [
       "<IPython.core.display.Image object>"
      ]
     },
     "metadata": {},
     "output_type": "display_data"
    }
   ],
   "source": [
    "# try to interpolate the distribution...\n",
    "\n",
    "ebar_pathlength_pdf_interpol = TH2F(\"ebar_pathlength_pdf_interpol\", \n",
    "                                   \"Path Length Distribution of Positron Interpolated\", 20, 0, 100, 30, 0, 600)\n",
    "\n",
    "for i in range(1,ebar_pathlength_pdf_interpol.GetNbinsX() + 1):\n",
    "    for j in range(1,ebar_pathlength_pdf_interpol.GetNbinsY() + 1):\n",
    "        x = ebar_pathlength_pdf_interpol.GetXaxis().GetBinCenter(i)\n",
    "        y = ebar_pathlength_pdf_interpol.GetYaxis().GetBinCenter(j)\n",
    "        interpol = ebar_pathlength_pdf.Interpolate(x, y)\n",
    "        ebar_pathlength_pdf_interpol.SetBinContent(i, j, interpol)\n",
    "        \n",
    "ebar_pathlength_pdf_interpol.Draw(\"colz\")\n",
    "c4.Draw()"
   ]
  },
  {
   "cell_type": "code",
   "execution_count": 33,
   "metadata": {},
   "outputs": [],
   "source": [
    "def get_ebar_path(E, hist):\n",
    "    nbin = hist.GetXaxis().FindBin(E)\n",
    "    py = hist.ProjectionY(\"projection_y\", nbin, nbin)\n",
    "    ret = py.GetRandom()\n",
    "    py.Delete()\n",
    "    return ret\n",
    "\n",
    "\n",
    "def calculate_ebar_path(event, detector_smear=200, hist=ebar_pathlength_pdf):\n",
    "    ebar_path_length = get_ebar_path(event.ebar_energy - e0_e, hist)   \n",
    "    ebar_path = random_cone(norm=ebar_path_length, cosZ=-event.ez)\n",
    "    \n",
    "    # path adjustment for uneven energy distribution along path\n",
    "    ebar_path = ebar_path * 0.72\n",
    "          \n",
    "    #detector smearing\n",
    "    detector_smear = random_sphere(radius=rng.Gaus(0, detector_smear))\n",
    "    \n",
    "    return ebar_path + detector_smear\n",
    "\n",
    "\n",
    "def calculate_ebar_path_z(e, detector_smear=200):\n",
    "    return calculate_ebar_path(e, detector_smear=200)[2]"
   ]
  },
  {
   "cell_type": "code",
   "execution_count": 34,
   "metadata": {},
   "outputs": [
    {
     "name": "stderr",
     "output_type": "stream",
     "text": [
      "Warning in <TFile::Append>: Replacing existing TH1: ebar_path_z_mean_smeared (Potential memory leak).\n",
      "Warning in <TFile::Append>: Replacing existing TH1: ebar_path_z_mean_unsmeared (Potential memory leak).\n",
      "Warning in <TCanvas::Constructor>: Deleting canvas with same name: c5\n",
      "Info in <TCanvas::Print>: png file ../output/plots/ToyMC/ebar_path.png has been created\n"
     ]
    },
    {
     "data": {
      "image/png": "[encoded data removed]",
      "text/plain": [
       "<IPython.core.display.Image object>"
      ]
     },
     "metadata": {},
     "output_type": "display_data"
    }
   ],
   "source": [
    "#treeFile.Close()\n",
    "\n",
    "\n",
    "#treeFile = TFile(\"../output/ROOT/kin_results.root\")\n",
    "counter=0\n",
    "\n",
    "ebar_path_z_mean_smeared = TProfile(\"ebar_path_z_mean_smeared\", \n",
    "                                 \"Mean positron Path Length In #nu direction\", 50, 0, 100, -2000, 2000)\n",
    "ebar_path_z_mean_unsmeared = TProfile(\"ebar_path_z_mean_unsmeared\", \n",
    "                                 \"Mean positron Path Length In #nu direction\", 50, 0, 100, -2000, 2000)\n",
    "\n",
    "for e in kin_tree:\n",
    "    #print(counter)\n",
    "    e_path_z = calculate_ebar_path_z(e, detector_smear=200)\n",
    "    e_path_z_nosmear = calculate_ebar_path_z(e, detector_smear=0)\n",
    "    ebar_path_z_mean_smeared.Fill(e.nuebar_energy, e_path_z, 1)\n",
    "    ebar_path_z_mean_unsmeared.Fill(e.nuebar_energy, e_path_z_nosmear, 1)\n",
    "    \n",
    "c5 = ROOT.TCanvas(\"c5\", \"c5\", 800, 600)\n",
    "ebar_path_z_mean_smeared.Draw(\"\")\n",
    "\n",
    "ebar_path_z_mean_unsmeared.SetLineColor(kRed)\n",
    "ebar_path_z_mean_unsmeared.Draw(\"E1 X0 SAME\")\n",
    "ebar_path_z_mean_unsmeared.Draw(\"HIST L SAME\")\n",
    "\n",
    "ebar_path_z_mean_smeared.GetXaxis().SetTitle(\"#bar{#nu_{e}} Energy (MeV)\")\n",
    "\n",
    "leg = TLegend(0.1,0.75,0.3,0.9)\n",
    "\n",
    "leg.AddEntry(ebar_path_z_mean_unsmeared,\"unsmeared\",\"LE\")\n",
    "leg.AddEntry(ebar_path_z_mean_smeared,\"smeared\",\"LE\")\n",
    "leg.Draw()\n",
    "\n",
    "\n",
    "c5.Draw()\n",
    "c5.SaveAs(\"../output/plots/ToyMC/ebar_path.png\")\n",
    "\n",
    "    \n"
   ]
  },
  {
   "cell_type": "markdown",
   "metadata": {},
   "source": [
    "There seem to be some weird features...\n",
    "\n",
    "Right before pathlength distribution sampling points.;\n",
    "\n",
    "Seem to correspond to discrepencies to the linearity of ebar_cos:nuebar_energy\n",
    "more data? Linear fit?"
   ]
  },
  {
   "cell_type": "code",
   "execution_count": 16,
   "metadata": {},
   "outputs": [
    {
     "name": "stderr",
     "output_type": "stream",
     "text": [
      "Warning in <TFile::Append>: Replacing existing TH1: kin_tree_prof (Potential memory leak).\n",
      "Info in <TCanvas::Print>: png file ../output/plots/ToyMC/ebar_angle and pathlength trend.png has been created\n"
     ]
    },
    {
     "data": {
      "image/png": "[encoded data removed]",
      "text/plain": [
       "<IPython.core.display.Image object>"
      ]
     },
     "metadata": {},
     "output_type": "display_data"
    }
   ],
   "source": [
    "kin_tree_prof = TProfile(\"kin_tree_prof\", \"ebar cos(Angle) vs. #nu energy\", 50, 0, 100, -1, 1)\n",
    "\n",
    "kin_tree.Draw(\"-ez:nuebar_energy>>kin_tree_prof\", \"\", \"goff\")\n",
    "\n",
    "kin_tree_prof.DrawNormalized(\"L HIST\")\n",
    "ebar_path_z_mean_unsmeared.DrawNormalized(\"SAME L HIST\")\n",
    "\n",
    "\n",
    "c5.Draw()\n",
    "c5.SaveAs(\"../output/plots/ToyMC/ebar_angle and pathlength trend.png\")"
   ]
  },
  {
   "cell_type": "code",
   "execution_count": 16,
   "metadata": {
    "scrolled": true
   },
   "outputs": [
    {
     "data": {
      "text/plain": [
       "66.0895399700809"
      ]
     },
     "execution_count": 16,
     "metadata": {},
     "output_type": "execute_result"
    }
   ],
   "source": [
    "get_ebar_path(10)"
   ]
  },
  {
   "cell_type": "code",
   "execution_count": 17,
   "metadata": {},
   "outputs": [],
   "source": [
    "treeFile = TFile(\"../output/ROOT/kin_results.root\")\n",
    "kin_tree = treeFile.kin_tree\n",
    "counter = 0"
   ]
  },
  {
   "cell_type": "markdown",
   "metadata": {},
   "source": [
    "Couple of things I should still ask about\n",
    "- Linear fit for the cos(ebar_angle) vs. nuebar energy?\n",
    "- Distirbutions for neutron thermalization, gamma EXP\n",
    "- More data?\n",
    "- Finer sampling for ebar pathlength distribution?\n",
    "- Applying to snowglobes"
   ]
  },
  {
   "cell_type": "code",
   "execution_count": null,
   "metadata": {},
   "outputs": [],
   "source": []
  },
  {
   "cell_type": "code",
   "execution_count": null,
   "metadata": {},
   "outputs": [],
   "source": []
  }
 ],
 "metadata": {
  "kernelspec": {
   "display_name": "Python 3",
   "language": "python",
   "name": "python3"
  },
  "language_info": {
   "codemirror_mode": {
    "name": "ipython",
    "version": 3
   },
   "file_extension": ".py",
   "mimetype": "text/x-python",
   "name": "python",
   "nbconvert_exporter": "python",
   "pygments_lexer": "ipython3",
   "version": "3.8.3"
  }
 },
 "nbformat": 4,
 "nbformat_minor": 5
}
