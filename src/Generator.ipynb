{
 "cells": [
  {
   "cell_type": "code",
   "execution_count": 1,
   "metadata": {},
   "outputs": [
    {
     "name": "stdout",
     "output_type": "stream",
     "text": [
      "Welcome to JupyROOT 6.22/06\n"
     ]
    }
   ],
   "source": [
    "import ROOT\n",
    "from ROOT import *\n",
    "import numpy as np\n",
    "import ctypes\n",
    "\n",
    "from constants import *"
   ]
  },
  {
   "cell_type": "code",
   "execution_count": 2,
   "metadata": {},
   "outputs": [],
   "source": [
    "ROOT.gRandom.SetSeed(0)\n",
    "ROOT.gStyle.SetOptStat(0)\n",
    "#ROOT.gStyle.SetMarkerStyle(kPlus)\n",
    "rng = ROOT.TRandom3()"
   ]
  },
  {
   "cell_type": "markdown",
   "metadata": {},
   "source": [
    "## Read in double differential xscn file"
   ]
  },
  {
   "cell_type": "code",
   "execution_count": 9,
   "metadata": {},
   "outputs": [
    {
     "name": "stderr",
     "output_type": "stream",
     "text": [
      "Warning in <TROOT::Append>: Replacing existing TH1: ibd_double_diff_xscn (Potential memory leak).\n"
     ]
    }
   ],
   "source": [
    "path = '../data/ibd/ibdxscnDoubleDiff.txt'\n",
    "xscn = TH2F(\"ibd_double_diff_xscn\", \"IBD Double Differential Cross Section\", 200, 0.5, 200.5, 20, -1, 1)\n",
    "xscn_file = np.loadtxt(path, delimiter=\" \")\n",
    "\n",
    "for line in xscn_file:\n",
    "    energy = line[0]\n",
    "    for i in range(1, line.size):\n",
    "        angle = -0.95 + 0.1*(i-1) # center of the bin\n",
    "        xscn.Fill(energy, angle, line[i])\n"
   ]
  },
  {
   "cell_type": "code",
   "execution_count": 18,
   "metadata": {
    "scrolled": true
   },
   "outputs": [
    {
     "name": "stderr",
     "output_type": "stream",
     "text": [
      "Warning in <TCanvas::Constructor>: Deleting canvas with same name: c1\n"
     ]
    },
    {
     "data": {
      "image/png": "[encoded data removed]",
      "text/plain": [
       "<IPython.core.display.Image object>"
      ]
     },
     "metadata": {},
     "output_type": "display_data"
    }
   ],
   "source": [
    "c1 = TCanvas(\"c1\", \"c1\", 800, 600)\n",
    "prof_x = xscn.ProfileX()\n",
    "#prof_x.Draw()\n",
    "xscn.Draw(\"colz\")\n",
    "c1.Draw()"
   ]
  },
  {
   "cell_type": "code",
   "execution_count": 17,
   "metadata": {
    "scrolled": true
   },
   "outputs": [],
   "source": [
    "def get_e_angle(nu_energy):\n",
    "    nbin = xscn.GetXaxis().FindBin(nu_energy)\n",
    "    py = xscn.ProjectionY(\"projection_y\", nbin, nbin)\n",
    "    ret = py.GetRandom()\n",
    "    py.Delete()\n",
    "    return ret"
   ]
  },
  {
   "cell_type": "code",
   "execution_count": null,
   "metadata": {},
   "outputs": [],
   "source": []
  }
 ],
 "metadata": {
  "kernelspec": {
   "display_name": "Python 3",
   "language": "python",
   "name": "python3"
  },
  "language_info": {
   "codemirror_mode": {
    "name": "ipython",
    "version": 3
   },
   "file_extension": ".py",
   "mimetype": "text/x-python",
   "name": "python",
   "nbconvert_exporter": "python",
   "pygments_lexer": "ipython3",
   "version": "3.8.3"
  }
 },
 "nbformat": 4,
 "nbformat_minor": 4
}
