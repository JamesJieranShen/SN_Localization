{
 "cells": [
  {
   "cell_type": "code",
   "execution_count": 1,
   "metadata": {},
   "outputs": [
    {
     "ename": "FileNotFoundError",
     "evalue": "[Errno 2] No such file or directory: '/media/james/Shared/neutrino/SN_Localization/src/src'",
     "output_type": "error",
     "traceback": [
      "\u001b[0;31m---------------------------------------------------------------------------\u001b[0m",
      "\u001b[0;31mFileNotFoundError\u001b[0m                         Traceback (most recent call last)",
      "\u001b[0;32m<ipython-input-1-adf4230375b0>\u001b[0m in \u001b[0;36m<module>\u001b[0;34m\u001b[0m\n\u001b[1;32m      1\u001b[0m \u001b[0;32mimport\u001b[0m \u001b[0mos\u001b[0m\u001b[0;34m\u001b[0m\u001b[0;34m\u001b[0m\u001b[0m\n\u001b[0;32m----> 2\u001b[0;31m \u001b[0mos\u001b[0m\u001b[0;34m.\u001b[0m\u001b[0mchdir\u001b[0m\u001b[0;34m(\u001b[0m\u001b[0mos\u001b[0m\u001b[0;34m.\u001b[0m\u001b[0mgetcwd\u001b[0m\u001b[0;34m(\u001b[0m\u001b[0;34m)\u001b[0m\u001b[0;34m+\u001b[0m\u001b[0;34m\"/src\"\u001b[0m\u001b[0;34m)\u001b[0m\u001b[0;34m\u001b[0m\u001b[0;34m\u001b[0m\u001b[0m\n\u001b[0m\u001b[1;32m      3\u001b[0m \u001b[0mprint\u001b[0m\u001b[0;34m(\u001b[0m\u001b[0mos\u001b[0m\u001b[0;34m.\u001b[0m\u001b[0mgetcwd\u001b[0m\u001b[0;34m(\u001b[0m\u001b[0;34m)\u001b[0m\u001b[0;34m)\u001b[0m\u001b[0;34m\u001b[0m\u001b[0;34m\u001b[0m\u001b[0m\n",
      "\u001b[0;31mFileNotFoundError\u001b[0m: [Errno 2] No such file or directory: '/media/james/Shared/neutrino/SN_Localization/src/src'"
     ]
    }
   ],
   "source": [
    "import os\n",
    "os.chdir(os.getcwd()+\"/src\")\n",
    "print(os.getcwd())"
   ]
  },
  {
   "cell_type": "code",
   "execution_count": 1,
   "metadata": {},
   "outputs": [
    {
     "name": "stdout",
     "output_type": "stream",
     "text": [
      "Welcome to JupyROOT 6.22/06\n"
     ]
    }
   ],
   "source": [
    "import ROOT\n",
    "from ROOT import *\n",
    "import numpy as np\n",
    "from scipy.spatial.transform import Rotation\n",
    "import ctypes\n",
    "from constants import *\n",
    "from tqdm import trange\n",
    "\n",
    "from array import array\n",
    "\n",
    "%load_ext autoreload\n",
    "%autoreload 2"
   ]
  },
  {
   "cell_type": "code",
   "execution_count": 2,
   "metadata": {},
   "outputs": [],
   "source": [
    "ROOT.gRandom.SetSeed(0)\n",
    "ROOT.gStyle.SetOptStat(0)\n",
    "#ROOT.gStyle.SetMarkerStyle(kPlus)\n",
    "rng = ROOT.TRandom3()"
   ]
  },
  {
   "cell_type": "markdown",
   "metadata": {},
   "source": [
    "## Read in double differential xscn file"
   ]
  },
  {
   "cell_type": "code",
   "execution_count": 1,
   "metadata": {},
   "outputs": [
    {
     "ename": "NameError",
     "evalue": "name 'TH2F' is not defined",
     "output_type": "error",
     "traceback": [
      "\u001b[0;31m---------------------------------------------------------------------------\u001b[0m",
      "\u001b[0;31mNameError\u001b[0m                                 Traceback (most recent call last)",
      "\u001b[0;32m<ipython-input-1-4d71dc952328>\u001b[0m in \u001b[0;36m<module>\u001b[0;34m\u001b[0m\n\u001b[1;32m      1\u001b[0m \u001b[0mpath\u001b[0m \u001b[0;34m=\u001b[0m \u001b[0;34m'../data/ibd/ibdxscnDoubleDiff.txt'\u001b[0m\u001b[0;34m\u001b[0m\u001b[0;34m\u001b[0m\u001b[0m\n\u001b[0;32m----> 2\u001b[0;31m \u001b[0mxscn\u001b[0m \u001b[0;34m=\u001b[0m \u001b[0mTH2F\u001b[0m\u001b[0;34m(\u001b[0m\u001b[0;34m\"ibd_double_diff_xscn\"\u001b[0m\u001b[0;34m,\u001b[0m \u001b[0;34m\"IBD Double Differential Cross Section\"\u001b[0m\u001b[0;34m,\u001b[0m \u001b[0;36m200\u001b[0m\u001b[0;34m,\u001b[0m \u001b[0;36m0.5\u001b[0m\u001b[0;34m,\u001b[0m \u001b[0;36m200.5\u001b[0m\u001b[0;34m,\u001b[0m \u001b[0;36m20\u001b[0m\u001b[0;34m,\u001b[0m \u001b[0;34m-\u001b[0m\u001b[0;36m1\u001b[0m\u001b[0;34m,\u001b[0m \u001b[0;36m1\u001b[0m\u001b[0;34m)\u001b[0m\u001b[0;34m\u001b[0m\u001b[0;34m\u001b[0m\u001b[0m\n\u001b[0m\u001b[1;32m      3\u001b[0m \u001b[0mxscn_file\u001b[0m \u001b[0;34m=\u001b[0m \u001b[0mnp\u001b[0m\u001b[0;34m.\u001b[0m\u001b[0mloadtxt\u001b[0m\u001b[0;34m(\u001b[0m\u001b[0mpath\u001b[0m\u001b[0;34m)\u001b[0m\u001b[0;34m\u001b[0m\u001b[0;34m\u001b[0m\u001b[0m\n\u001b[1;32m      4\u001b[0m \u001b[0;34m\u001b[0m\u001b[0m\n\u001b[1;32m      5\u001b[0m \u001b[0;32mfor\u001b[0m \u001b[0mline\u001b[0m \u001b[0;32min\u001b[0m \u001b[0mxscn_file\u001b[0m\u001b[0;34m:\u001b[0m\u001b[0;34m\u001b[0m\u001b[0;34m\u001b[0m\u001b[0m\n",
      "\u001b[0;31mNameError\u001b[0m: name 'TH2F' is not defined"
     ]
    }
   ],
   "source": [
    "path = '../data/ibd/ibdxscnDoubleDiff.txt'\n",
    "xscn = TH2F(\"ibd_double_diff_xscn\", \"IBD Double Differential Cross Section\", 200, 0.5, 200.5, 20, -1, 1)\n",
    "xscn_file = np.loadtxt(path, delimiter=\" \")\n",
    "\n",
    "for line in xscn_file:\n",
    "    energy = line[0]\n",
    "    for i in range(1, line.size):\n",
    "        angle = -0.95 + 0.1*(i-1) # center of the bin\n",
    "        xscn.Fill(energy, angle, line[i])\n"
   ]
  },
  {
   "cell_type": "code",
   "execution_count": 4,
   "metadata": {
    "scrolled": true
   },
   "outputs": [
    {
     "data": {
      "image/png": "[encoded data removed]",
      "text/plain": [
       "<IPython.core.display.Image object>"
      ]
     },
     "metadata": {},
     "output_type": "display_data"
    }
   ],
   "source": [
    "c1 = TCanvas(\"c1\", \"c1\", 800, 600)\n",
    "prof_x = xscn.ProfileX()\n",
    "#prof_x.Draw()\n",
    "xscn.Draw(\"colz\")\n",
    "c1.Draw()"
   ]
  },
  {
   "cell_type": "code",
   "execution_count": 5,
   "metadata": {
    "scrolled": true
   },
   "outputs": [],
   "source": [
    "def get_e_angle(nu_energy):\n",
    "    nbin = xscn.GetXaxis().FindBin(nu_energy)\n",
    "    py = xscn.ProjectionY(\"projection_y\", nbin, nbin)\n",
    "    ret = py.GetRandom()\n",
    "    py.Delete()\n",
    "    return ret"
   ]
  },
  {
   "cell_type": "code",
   "execution_count": 8,
   "metadata": {
    "tags": []
   },
   "outputs": [
    {
     "name": "stderr",
     "output_type": "stream",
     "text": [
      "100%|██████████| 1000000/1000000 [02:35<00:00, 6429.30it/s]"
     ]
    },
    {
     "name": "stdout",
     "output_type": "stream",
     "text": [
      "done!\n"
     ]
    },
    {
     "name": "stderr",
     "output_type": "stream",
     "text": [
      "\n"
     ]
    },
    {
     "data": {
      "text/plain": [
       "10118"
      ]
     },
     "execution_count": 8,
     "metadata": {},
     "output_type": "execute_result"
    }
   ],
   "source": [
    "from particle import *\n",
    "from ibd_event import *\n",
    "\n",
    "%autoreload 2\n",
    "\n",
    "out_path = \"../output/ROOT/kin_results_generated.root\"\n",
    "outfile = TFile(out_path, \"recreate\", \"Energy Angular Distribution\")\n",
    "tree = TTree(\"kin_tree\",\"kin file tree\")\n",
    "\n",
    "NUMGEN = 1000000\n",
    "\n",
    "#set up tree\n",
    "nuebar_energy = array('f', [0.])\n",
    "ebar_energy = array('f', [0.])\n",
    "n_energy = array('f', [0.])\n",
    "ex = array('f', [0.])\n",
    "ey = array('f', [0.])\n",
    "ez = array('f', [0.])\n",
    "nx = array('f', [0.])\n",
    "ny = array('f', [0.])\n",
    "nz = array('f', [0.])\n",
    "ar_dir = np.array([0, 0, -1])\n",
    "tree.Branch(\"nuebar_energy\", nuebar_energy, \"nuebar_energy/F\")\n",
    "tree.Branch(\"ebar_energy\", ebar_energy, \"ebar_energy/F\")\n",
    "tree.Branch(\"n_energy\", n_energy, \"n_energy/F\")\n",
    "\n",
    "tree.Branch(\"ex\", ex, \"ex/F\")\n",
    "tree.Branch(\"ey\", ey, \"ey/F\")\n",
    "tree.Branch(\"ez\", ez, \"ez/F\")\n",
    "\n",
    "tree.Branch(\"nx\", nx, \"nx/F\")\n",
    "tree.Branch(\"ny\", ny, \"ny/F\")\n",
    "tree.Branch(\"nz\", nz, \"nz/F\")\n",
    "\n",
    "\n",
    "nuebar_dir = np.array([0, 0, -1])\n",
    "for i in trange(NUMGEN):\n",
    "    event = IBD_event(rng.Uniform(98)+2, nuebar_dir, get_e_angle)\n",
    "    nuebar_energy[0] = event.nuebar.en\n",
    "    ebar_energy[0] = event.ebar.en\n",
    "    n_energy[0] = event.n.en\n",
    "\n",
    "    ex[0] = event.ebar.dir[0]\n",
    "    ey[0] = event.ebar.dir[1]\n",
    "    ez[0] = event.ebar.dir[2]\n",
    "\n",
    "    nx[0] = event.n.dir[0]\n",
    "    ny[0] = event.n.dir[1]\n",
    "    nz[0] = event.n.dir[2]\n",
    "    tree.Fill()\n",
    "print(\"done!\")\n",
    "tree.Write()\n",
    "#outfile.Close()\n",
    "    \n"
   ]
  },
  {
   "cell_type": "code",
   "execution_count": 9,
   "metadata": {},
   "outputs": [
    {
     "name": "stderr",
     "output_type": "stream",
     "text": [
      "Warning in <TCanvas::Constructor>: Deleting canvas with same name: c1\n"
     ]
    },
    {
     "data": {
      "image/png": "[encoded data removed]",
      "text/plain": [
       "<IPython.core.display.Image object>"
      ]
     },
     "metadata": {},
     "output_type": "display_data"
    }
   ],
   "source": [
    "c1 = TCanvas(\"c1\", \"c1\", 800, 600)\n",
    "tree.Draw(\"-ez:nuebar_energy\", \"\", \"prof\")\n",
    "c1.Draw()"
   ]
  },
  {
   "cell_type": "code",
   "execution_count": 10,
   "metadata": {},
   "outputs": [],
   "source": [
    "outfile.Close()"
   ]
  },
  {
   "cell_type": "markdown",
   "metadata": {},
   "source": [
    "## Precision\n",
    "SOme precision checks are shown below. conservation of moomentum holds up to $\\pm 0.05 MeV/C$"
   ]
  },
  {
   "cell_type": "code",
   "execution_count": 14,
   "metadata": {
    "scrolled": true
   },
   "outputs": [
    {
     "name": "stdout",
     "output_type": "stream",
     "text": [
      "25.319103322280803\n",
      "25.309245392779832\n"
     ]
    }
   ],
   "source": [
    "event = IBD_event(20., [0., 0., 1.], get_e_angle)"
   ]
  },
  {
   "cell_type": "code",
   "execution_count": 19,
   "metadata": {},
   "outputs": [
    {
     "name": "stdout",
     "output_type": "stream",
     "text": [
      "20.0\n",
      "25.319103322280803\n",
      "2.412196434260206\n",
      "20.0\n"
     ]
    }
   ],
   "source": [
    "print(event.nuebar.getMomentum())\n",
    "print(event.n.getMomentum())\n",
    "print(event.ebar.getMomentum()*event.ebar.dir[2])\n",
    "print(25.309245392779832*event.n.dir[2] + event.ebar.getMomentum()*event.ebar.dir[2])"
   ]
  },
  {
   "cell_type": "code",
   "execution_count": 25,
   "metadata": {},
   "outputs": [
    {
     "name": "stdout",
     "output_type": "stream",
     "text": [
      "337.3068807223555\n",
      "337.3068807223555\n"
     ]
    }
   ],
   "source": [
    "print(event.ebar.en**2)\n",
    "print(event.ebar.getMomentum()**2 + e0_e**2)"
   ]
  },
  {
   "cell_type": "code",
   "execution_count": 15,
   "metadata": {},
   "outputs": [
    {
     "name": "stderr",
     "output_type": "stream",
     "text": [
      "100%|██████████| 100000/100000 [00:00<00:00, 4593577.78it/s]\n"
     ]
    }
   ],
   "source": [
    "for i in trange(100000):\n",
    "    pass"
   ]
  },
  {
   "cell_type": "code",
   "execution_count": null,
   "metadata": {},
   "outputs": [],
   "source": []
  }
 ],
 "metadata": {
  "kernelspec": {
   "display_name": "Python 3",
   "language": "python",
   "name": "python3"
  },
  "language_info": {
   "codemirror_mode": {
    "name": "ipython",
    "version": 3
   },
   "file_extension": ".py",
   "mimetype": "text/x-python",
   "name": "python",
   "nbconvert_exporter": "python",
   "pygments_lexer": "ipython3",
   "version": "3.9.2"
  }
 },
 "nbformat": 4,
 "nbformat_minor": 4
}
