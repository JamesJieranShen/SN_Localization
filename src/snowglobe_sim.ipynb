{
 "cells": [
  {
   "cell_type": "code",
   "execution_count": 1,
   "id": "exact-uzbekistan",
   "metadata": {},
   "outputs": [
    {
     "name": "stdout",
     "output_type": "stream",
     "text": [
      "Welcome to JupyROOT 6.22/06\n"
     ]
    }
   ],
   "source": [
    "import ROOT\n",
    "from ROOT import *\n",
    "import numpy as np\n",
    "from scipy.spatial.transform import Rotation\n",
    "import ctypes\n",
    "from constants import *\n",
    "from tqdm import trange\n",
    "from array import array\n",
    "\n",
    "%load_ext autoreload"
   ]
  },
  {
   "cell_type": "code",
   "execution_count": 2,
   "id": "reverse-acrylic",
   "metadata": {},
   "outputs": [],
   "source": [
    "from generator import *\n",
    "%autoreload 2\n",
    "ROOT.gRandom.SetSeed(0)\n",
    "ROOT.gStyle.SetOptStat(0)\n",
    "ROOT.gStyle.SetMarkerStyle(kPlus)\n",
    "rng = ROOT.TRandom3()\n",
    "gen = Generator(\"../data/ibd/ibdxscnDoubleDiff.txt\")"
   ]
  },
  {
   "cell_type": "markdown",
   "id": "variable-valuation",
   "metadata": {},
   "source": [
    "## Preprocess time step info\n"
   ]
  },
  {
   "cell_type": "code",
   "execution_count": 3,
   "id": "digital-cookbook",
   "metadata": {},
   "outputs": [],
   "source": [
    "lightcurve_path = \"../data/kato_snowglobes_event_rate/lightcurve_nue_all.dat\"\n",
    "lightcurve = np.loadtxt(lightcurve_path)\n",
    "timestep = np.zeros([lightcurve.shape[0], 2])\n",
    "for i in range(lightcurve.shape[0]):\n",
    "    line = lightcurve[i]\n",
    "    timestep[i, 0] = line[3]\n",
    "    timestep[i, 1] = line[0]\n"
   ]
  },
  {
   "cell_type": "code",
   "execution_count": 4,
   "id": "passing-controversy",
   "metadata": {},
   "outputs": [
    {
     "name": "stdout",
     "output_type": "stream",
     "text": [
      "1112.6576097196537\n"
     ]
    },
    {
     "data": {
      "image/png": "[encoded data removed]",
      "text/plain": [
       "<IPython.core.display.Image object>"
      ]
     },
     "metadata": {},
     "output_type": "display_data"
    }
   ],
   "source": [
    "spectrum = TH2F(\"spectrum\", \"spectrum\", 10, -6, 0, 200, 0, 100);\n",
    "\n",
    "for step in timestep:\n",
    "    step_name = int(step[0])\n",
    "    time = -np.log10(step[1])\n",
    "    #print(time)\n",
    "    path = \"../data/kato_snowglobes_event_rate/normal/kato15sol{:d}_normal_smeared_sum_ibd.dat\".format(step_name)\n",
    "    spe_file = np.loadtxt(path)\n",
    "    for line in spe_file:\n",
    "        en = line[0] * 1000 # convert to MeV\n",
    "        spectrum.Fill(time, en, line[1])\n",
    "    \n",
    "print(spectrum.Integral())    \n",
    "c1 = TCanvas(\"c1\", \"c1\", 800, 600)\n",
    "spectrum.GetXaxis().SetRangeUser(-1e-6, -1e1)\n",
    "spectrum.Draw('colz')\n",
    "c1.Draw()\n",
    "\n"
   ]
  },
  {
   "cell_type": "code",
   "execution_count": 5,
   "id": "advisory-winner",
   "metadata": {},
   "outputs": [
    {
     "name": "stdout",
     "output_type": "stream",
     "text": [
      "TH1.Print Name  = spectrum, Entries= 7600, Total sum= 1112.66\n"
     ]
    },
    {
     "data": {
      "image/png": "[encoded data removed]",
      "text/plain": [
       "<IPython.core.display.Image object>"
      ]
     },
     "metadata": {},
     "output_type": "display_data"
    }
   ],
   "source": [
    "spectrum.Print()\n",
    "proj = spectrum.ProjectionX()\n",
    "proj.Draw(\"hist\")\n",
    "c1.SetLogy()\n",
    "c1.Draw()"
   ]
  },
  {
   "cell_type": "code",
   "execution_count": 33,
   "id": "distant-accounting",
   "metadata": {},
   "outputs": [
    {
     "name": "stdout",
     "output_type": "stream",
     "text": [
      "0.027964721336835505\n"
     ]
    },
    {
     "name": "stderr",
     "output_type": "stream",
     "text": [
      "Warning in <TROOT::Append>: Replacing existing TH1: spectrum (Potential memory leak).\n"
     ]
    }
   ],
   "source": [
    "path = \"../data/kato_snowglobes_event_rate/inverse/kato15sol7225_inverted_smeared_sum_ibd.dat\"\n",
    "spectrum = TH1F(\"spectrum\", \"Spectrum\", 200, 0, 100)\n",
    "spe_file = np.loadtxt(path, delimiter=\" \")\n",
    "for line in spe_file:\n",
    "    en = line[0] * 1000 # convert to MeV\n",
    "    spectrum.Fill(en, line[1])\n",
    "    \n",
    "print(spectrum.Integral())\n",
    "#c1.Draw()"
   ]
  },
  {
   "cell_type": "code",
   "execution_count": 5,
   "id": "asian-jewel",
   "metadata": {},
   "outputs": [
    {
     "data": {
      "text/plain": [
       "array('d', [-321840.0, -318000.0, -78712.0, -72814.0, -46361.0, -37633.0, -30425.0, -19630.0, -15730.0, -12603.0, -10139.0, -5223.0, -4275.4, -3538.6, -2044.6, -1823.1, -1709.2, -999.59, -798.97, -640.88, -400.35, -283.36, -195.52, -158.84, -128.13, -104.14, -56.859, -39.796, -23.338, -16.625, -9.807, -6.8022, -3.8267, -2.505, -1.1739, -0.5896, -0.13197, -0.013179])"
      ]
     },
     "execution_count": 5,
     "metadata": {},
     "output_type": "execute_result"
    }
   ],
   "source": [
    "tArray"
   ]
  },
  {
   "cell_type": "code",
   "execution_count": null,
   "id": "reverse-causing",
   "metadata": {},
   "outputs": [],
   "source": []
  }
 ],
 "metadata": {
  "kernelspec": {
   "display_name": "Python 3",
   "language": "python",
   "name": "python3"
  },
  "language_info": {
   "codemirror_mode": {
    "name": "ipython",
    "version": 3
   },
   "file_extension": ".py",
   "mimetype": "text/x-python",
   "name": "python",
   "nbconvert_exporter": "python",
   "pygments_lexer": "ipython3",
   "version": "3.9.2"
  }
 },
 "nbformat": 4,
 "nbformat_minor": 5
}
